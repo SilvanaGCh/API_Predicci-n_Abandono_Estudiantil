{
  "nbformat": 4,
  "nbformat_minor": 0,
  "metadata": {
    "colab": {
      "provenance": []
    },
    "kernelspec": {
      "name": "python3",
      "display_name": "Python 3"
    },
    "language_info": {
      "name": "python"
    }
  },
  "cells": [
    {
      "cell_type": "markdown",
      "source": [
        "# API REST para Predicción de Abandono Estudiantil\n",
        "\n",
        "Autores:\n",
        "\n",
        "Silvana Gutierrez\n",
        "\n",
        "Yesika Rojas\n",
        "\n",
        "Angel Gutierrez\n",
        "\n",
        "Jaime Patiño\n",
        "\n",
        "Javier Gomez\n",
        "\n",
        "---\n",
        "\n",
        "## Objetivo\n",
        "\n",
        "Desarrollar una API REST utilizando **FastAPI** que permita predecir el riesgo de abandono estudiantil mediante un modelo de Random Forest Classifier."
      ],
      "metadata": {
        "id": "0FMasIAfz5f4"
      }
    },
    {
      "cell_type": "code",
      "execution_count": 1,
      "metadata": {
        "colab": {
          "base_uri": "https://localhost:8080/"
        },
        "id": "3S9Wsd8oPmH_",
        "outputId": "fc84324f-7c7e-43b5-b550-ddadf0eef086"
      },
      "outputs": [
        {
          "output_type": "stream",
          "name": "stdout",
          "text": [
            "Requirement already satisfied: fastapi in /usr/local/lib/python3.12/dist-packages (0.116.2)\n",
            "Requirement already satisfied: uvicorn in /usr/local/lib/python3.12/dist-packages (0.35.0)\n",
            "Requirement already satisfied: scikit-learn in /usr/local/lib/python3.12/dist-packages (1.6.1)\n",
            "Requirement already satisfied: joblib in /usr/local/lib/python3.12/dist-packages (1.5.2)\n",
            "Requirement already satisfied: pydantic in /usr/local/lib/python3.12/dist-packages (2.11.9)\n",
            "Requirement already satisfied: nest_asyncio in /usr/local/lib/python3.12/dist-packages (1.6.0)\n",
            "Requirement already satisfied: starlette<0.49.0,>=0.40.0 in /usr/local/lib/python3.12/dist-packages (from fastapi) (0.48.0)\n",
            "Requirement already satisfied: typing-extensions>=4.8.0 in /usr/local/lib/python3.12/dist-packages (from fastapi) (4.15.0)\n",
            "Requirement already satisfied: click>=7.0 in /usr/local/lib/python3.12/dist-packages (from uvicorn) (8.2.1)\n",
            "Requirement already satisfied: h11>=0.8 in /usr/local/lib/python3.12/dist-packages (from uvicorn) (0.16.0)\n",
            "Requirement already satisfied: numpy>=1.19.5 in /usr/local/lib/python3.12/dist-packages (from scikit-learn) (2.0.2)\n",
            "Requirement already satisfied: scipy>=1.6.0 in /usr/local/lib/python3.12/dist-packages (from scikit-learn) (1.16.2)\n",
            "Requirement already satisfied: threadpoolctl>=3.1.0 in /usr/local/lib/python3.12/dist-packages (from scikit-learn) (3.6.0)\n",
            "Requirement already satisfied: annotated-types>=0.6.0 in /usr/local/lib/python3.12/dist-packages (from pydantic) (0.7.0)\n",
            "Requirement already satisfied: pydantic-core==2.33.2 in /usr/local/lib/python3.12/dist-packages (from pydantic) (2.33.2)\n",
            "Requirement already satisfied: typing-inspection>=0.4.0 in /usr/local/lib/python3.12/dist-packages (from pydantic) (0.4.1)\n",
            "Requirement already satisfied: anyio<5,>=3.6.2 in /usr/local/lib/python3.12/dist-packages (from starlette<0.49.0,>=0.40.0->fastapi) (4.10.0)\n",
            "Requirement already satisfied: idna>=2.8 in /usr/local/lib/python3.12/dist-packages (from anyio<5,>=3.6.2->starlette<0.49.0,>=0.40.0->fastapi) (3.10)\n",
            "Requirement already satisfied: sniffio>=1.1 in /usr/local/lib/python3.12/dist-packages (from anyio<5,>=3.6.2->starlette<0.49.0,>=0.40.0->fastapi) (1.3.1)\n"
          ]
        }
      ],
      "source": [
        "!pip install fastapi uvicorn scikit-learn joblib pydantic nest_asyncio"
      ]
    },
    {
      "cell_type": "markdown",
      "source": [
        "## Generación del Dataset y Entrenamiento del Modelo\n",
        "\n",
        "### Características del Dataset:\n",
        "- **Tamaño:** 1000 estudiantes simulados\n",
        "- **Variables predictoras:**\n",
        "  - edad (18-35 años)\n",
        "  - horas_estudio_semanal (0-30 horas)\n",
        "  - asistencia (50%-100%)\n",
        "  - promedio_notas (0.0-5.0)\n",
        "  - trabaja (0=No, 1=Sí)\n",
        "- **Variable objetivo:** abandona (0=No abandona, 1=Abandona)\n",
        "\n",
        "### Lógica de Etiquetado:\n",
        "Un estudiante se considera en riesgo de abandono si cumple **al menos una** de estas condiciones:\n",
        "- Estudia menos de 10 horas semanales\n",
        "- Tiene un promedio menor a 2.5\n",
        "- Trabaja Y tiene asistencia menor al 70%\n",
        "\n",
        "### Modelo:\n",
        "- **Algoritmo:** Random Forest Classifier\n",
        "- **N° de árboles:** 100\n",
        "- **División:** 80% entrenamiento, 20% prueba"
      ],
      "metadata": {
        "id": "z25vSHYi0gry"
      }
    },
    {
      "cell_type": "code",
      "source": [
        "#Generar dataset simulado y entrenamiento del modelo\n",
        "\n",
        "import numpy as np\n",
        "import pandas as pd\n",
        "from sklearn.ensemble import RandomForestClassifier\n",
        "from sklearn.model_selection import train_test_split\n",
        "from sklearn.metrics import accuracy_score\n",
        "import joblib\n",
        "\n",
        "# Reproducibilidad\n",
        "np.random.seed(42)\n",
        "\n",
        "# Simulación de datos (1000 estudiantes, 5 variables)\n",
        "data = pd.DataFrame({\n",
        "    \"edad\": np.random.randint(18, 35, 1000),\n",
        "    \"horas_estudio_semanal\": np.random.normal(15, 5, 1000).clip(0),\n",
        "    \"asistencia\": np.random.uniform(0.5, 1.0, 1000),\n",
        "    \"promedio_notas\": np.random.normal(3.0, 0.5, 1000).clip(0, 5),\n",
        "    \"trabaja\": np.random.randint(0, 2, 1000)\n",
        "})\n",
        "\n",
        "# Regla para generar etiqueta (abandona = 1, no abandona = 0)\n",
        "data[\"abandona\"] = (\n",
        "    (data[\"horas_estudio_semanal\"] < 10).astype(int) |\n",
        "    (data[\"promedio_notas\"] < 2.5).astype(int) |\n",
        "    ((data[\"trabaja\"] == 1) & (data[\"asistencia\"] < 0.7)).astype(int)\n",
        ")\n",
        "\n",
        "# Separar features y target\n",
        "X = data.drop(columns=[\"abandona\"])\n",
        "y = data[\"abandona\"]\n",
        "\n",
        "# Train/test split\n",
        "X_train, X_test, y_train, y_test = train_test_split(X, y, test_size=0.2, random_state=42)\n",
        "\n",
        "# Entrenar modelo\n",
        "model = RandomForestClassifier(n_estimators=100, random_state=42)\n",
        "model.fit(X_train, y_train)\n",
        "\n",
        "# Evaluación\n",
        "y_pred = model.predict(X_test)\n",
        "print(\"Accuracy:\", accuracy_score(y_test, y_pred))\n",
        "\n",
        "# Guardar modelo\n",
        "joblib.dump(model, \"modelo_abandono.pkl\")"
      ],
      "metadata": {
        "colab": {
          "base_uri": "https://localhost:8080/"
        },
        "id": "u9sxPeXedhIR",
        "outputId": "7dc484ce-3933-44a6-bf28-2f57055e70d4"
      },
      "execution_count": 2,
      "outputs": [
        {
          "output_type": "stream",
          "name": "stdout",
          "text": [
            "Accuracy: 1.0\n"
          ]
        },
        {
          "output_type": "execute_result",
          "data": {
            "text/plain": [
              "['modelo_abandono.pkl']"
            ]
          },
          "metadata": {},
          "execution_count": 2
        }
      ]
    },
    {
      "cell_type": "markdown",
      "source": [
        "## PASO 3: Implementación de la API con FastAPI\n",
        "\n",
        "En este paso implementamos la API REST con los siguientes componentes:\n",
        "\n",
        "### Endpoints definidos:\n",
        "1. **GET /** - Información general de la API\n",
        "2. **GET /salud** - Verificación del estado del servicio\n",
        "3. **GET /estadisticas** - Métricas de uso\n",
        "4. **POST /predecir** - Realizar predicción de abandono\n",
        "\n",
        "### Sistema de Logging:\n",
        "- Registro de todas las solicitudes\n",
        "- Registro de predicciones exitosas\n",
        "- Registro de errores\n",
        "- Almacenamiento en archivo `api_logs.log`\n",
        "\n",
        "### Sistema de Monitoreo:\n",
        "- Contador de predicciones totales\n",
        "- Contador de predicciones exitosas\n",
        "- Contador de predicciones fallidas\n",
        "- Tiempo de actividad del servicio"
      ],
      "metadata": {
        "id": "0No1nMaB0oZ7"
      }
    },
    {
      "cell_type": "code",
      "source": [
        "# IMPLEMENTACIÓN DE LA API CON FASTAPI\n",
        "\n",
        "from fastapi import FastAPI, HTTPException\n",
        "from pydantic import BaseModel, Field\n",
        "import nest_asyncio\n",
        "import uvicorn\n",
        "import logging\n",
        "from datetime import datetime\n",
        "import threading\n",
        "\n",
        "# Configurar logging básico\n",
        "logging.basicConfig(\n",
        "    level=logging.INFO,\n",
        "    format='%(asctime)s - %(levelname)s - %(message)s',\n",
        "    handlers=[\n",
        "        logging.FileHandler('api_logs.log'),\n",
        "        logging.StreamHandler()\n",
        "    ]\n",
        ")\n",
        "logger = logging.getLogger(__name__)\n",
        "\n",
        "# Habilitar FastAPI en Colab\n",
        "nest_asyncio.apply()\n",
        "\n",
        "# Cargar modelo\n",
        "model = joblib.load(\"modelo_abandono.pkl\")\n",
        "logger.info(\" Modelo cargado correctamente\")\n",
        "\n",
        "# Variables para monitoreo\n",
        "stats = {\n",
        "    \"total_predicciones\": 0,\n",
        "    \"exitosas\": 0,\n",
        "    \"fallidas\": 0,\n",
        "    \"inicio\": datetime.now()\n",
        "}\n",
        "\n",
        "# Crear API\n",
        "app = FastAPI(\n",
        "    title=\"API Predicción Abandono Estudiantil\",\n",
        "    description=\"API REST para predecir abandono estudiantil\",\n",
        "    version=\"1.0.0\"\n",
        ")\n",
        "\n",
        "# Modelo de datos de entrada\n",
        "class Estudiante(BaseModel):\n",
        "    edad: int = Field(..., ge=16, le=70, description=\"Edad del estudiante\")\n",
        "    horas_estudio_semanal: float = Field(..., ge=0, description=\"Horas de estudio semanales\")\n",
        "    asistencia: float = Field(..., ge=0.0, le=1.0, description=\"Porcentaje de asistencia\")\n",
        "    promedio_notas: float = Field(..., ge=0.0, le=5.0, description=\"Promedio académico\")\n",
        "    trabaja: int = Field(..., ge=0, le=1, description=\"¿Trabaja? 0=No, 1=Sí\")\n",
        "\n",
        "    class Config:\n",
        "        schema_extra = {\n",
        "            \"example\": {\n",
        "                \"edad\": 22,\n",
        "                \"horas_estudio_semanal\": 12.5,\n",
        "                \"asistencia\": 0.85,\n",
        "                \"promedio_notas\": 3.5,\n",
        "                \"trabaja\": 1\n",
        "            }\n",
        "        }"
      ],
      "metadata": {
        "colab": {
          "base_uri": "https://localhost:8080/"
        },
        "id": "CrfJWDhtl3iG",
        "outputId": "8b01ccf6-4897-435b-a772-da3c1121adde"
      },
      "execution_count": 3,
      "outputs": [
        {
          "output_type": "stream",
          "name": "stderr",
          "text": [
            "/usr/local/lib/python3.12/dist-packages/pydantic/_internal/_config.py:373: UserWarning: Valid config keys have changed in V2:\n",
            "* 'schema_extra' has been renamed to 'json_schema_extra'\n",
            "  warnings.warn(message, UserWarning)\n"
          ]
        }
      ]
    },
    {
      "cell_type": "markdown",
      "source": [
        "## 📍 PASO 4: Definición de Endpoints\n",
        "\n",
        "### Validaciones con Pydantic:\n",
        "- **edad:** Entre 16 y 70 años\n",
        "- **horas_estudio_semanal:** Mayor o igual a 0\n",
        "- **asistencia:** Entre 0.0 y 1.0\n",
        "- **promedio_notas:** Entre 0.0 y 5.0\n",
        "- **trabaja:** 0 (No) o 1 (Sí)\n",
        "\n",
        "### Clasificación de Riesgo:\n",
        "- **BAJO:** probabilidad < 0.3\n",
        "- **MEDIO:** 0.3 ≤ probabilidad < 0.6\n",
        "- **ALTO:** probabilidad ≥ 0.6"
      ],
      "metadata": {
        "id": "oxHPYP800yQd"
      }
    },
    {
      "cell_type": "code",
      "source": [
        "# ENDPOINTS DE LA API\n",
        "\n",
        "\n",
        "@app.get(\"/\")\n",
        "def inicio():\n",
        "    \"\"\"Endpoint de bienvenida\"\"\"\n",
        "    logger.info(\"Acceso al endpoint raíz\")\n",
        "    return {\n",
        "        \"mensaje\": \"API de Predicción de Abandono Estudiantil\",\n",
        "        \"version\": \"1.0.0\",\n",
        "        \"endpoints\": [\"/predecir\", \"/salud\", \"/estadisticas\", \"/docs\"]\n",
        "    }\n",
        "\n",
        "@app.get(\"/salud\")\n",
        "def verificar_salud():\n",
        "    \"\"\"Verificar estado del servicio\"\"\"\n",
        "    logger.info(\"Verificación de salud\")\n",
        "    return {\n",
        "        \"estado\": \"activo\",\n",
        "        \"timestamp\": datetime.now().isoformat(),\n",
        "        \"modelo\": \"operativo\"\n",
        "    }\n",
        "\n",
        "@app.get(\"/estadisticas\")\n",
        "def obtener_estadisticas():\n",
        "    \"\"\"Consultar estadísticas de uso\"\"\"\n",
        "    logger.info(\"Consulta de estadísticas\")\n",
        "    uptime = (datetime.now() - stats[\"inicio\"]).total_seconds()\n",
        "    return {\n",
        "        \"total_predicciones\": stats[\"total_predicciones\"],\n",
        "        \"exitosas\": stats[\"exitosas\"],\n",
        "        \"fallidas\": stats[\"fallidas\"],\n",
        "        \"tiempo_activo_segundos\": round(uptime, 2)\n",
        "    }\n",
        "\n",
        "@app.post(\"/predecir\")\n",
        "def predecir(estudiante: Estudiante):\n",
        "    \"\"\"Realizar predicción de abandono estudiantil\"\"\"\n",
        "    try:\n",
        "        logger.info(f\"Nueva predicción - Datos: {estudiante.dict()}\")\n",
        "\n",
        "        # Preparar datos\n",
        "        datos = pd.DataFrame([{\n",
        "            'edad': estudiante.edad,\n",
        "            'horas_estudio_semanal': estudiante.horas_estudio_semanal,\n",
        "            'asistencia': estudiante.asistencia,\n",
        "            'promedio_notas': estudiante.promedio_notas,\n",
        "            'trabaja': estudiante.trabaja\n",
        "        }])\n",
        "\n",
        "        # Predicción\n",
        "        prediccion = int(model.predict(datos)[0])\n",
        "        probabilidad = float(model.predict_proba(datos)[0][1])\n",
        "\n",
        "        # Clasificar riesgo\n",
        "        if probabilidad < 0.3:\n",
        "            riesgo = \"BAJO\"\n",
        "        elif probabilidad < 0.6:\n",
        "            riesgo = \"MEDIO\"\n",
        "        else:\n",
        "            riesgo = \"ALTO\"\n",
        "\n",
        "        resultado = {\n",
        "            \"abandona\": prediccion,\n",
        "            \"probabilidad\": round(probabilidad, 2),\n",
        "            \"riesgo\": riesgo,\n",
        "            \"timestamp\": datetime.now().isoformat()\n",
        "        }\n",
        "\n",
        "        # Actualizar estadísticas\n",
        "        stats[\"total_predicciones\"] += 1\n",
        "        stats[\"exitosas\"] += 1\n",
        "\n",
        "        logger.info(f\"Predicción exitosa - Resultado: {resultado}\")\n",
        "        return resultado\n",
        "\n",
        "    except Exception as e:\n",
        "        stats[\"total_predicciones\"] += 1\n",
        "        stats[\"fallidas\"] += 1\n",
        "        logger.error(f\"Error en predicción: {str(e)}\")\n",
        "        raise HTTPException(status_code=500, detail=f\"Error: {str(e)}\")\n"
      ],
      "metadata": {
        "id": "5alITUqgl_Bf"
      },
      "execution_count": 4,
      "outputs": []
    },
    {
      "cell_type": "markdown",
      "source": [
        "## Ejecución de la API\n",
        "\n",
        "La API se ejecuta en:\n",
        "- **Local:** http://127.0.0.1:8000\n",
        "- **Documentación:** http://127.0.0.1:8000/docs (Swagger UI automático)\n",
        "\n",
        "**Nota:** La API se ejecuta en un thread separado para permitir continuar con el notebook."
      ],
      "metadata": {
        "id": "7XK_YBSy05EV"
      }
    },
    {
      "cell_type": "code",
      "source": [
        "# EJECUTAR LA API\n",
        "\n",
        "import time\n",
        "\n",
        "def run_api():\n",
        "    uvicorn.run(app, host=\"127.0.0.1\", port=8000, log_level=\"warning\")\n",
        "\n",
        "# Iniciar API en thread\n",
        "thread = threading.Thread(target=run_api, daemon=True)\n",
        "thread.start()\n",
        "\n",
        "# Esperar a que la API esté lista\n",
        "print(\" Iniciando API...\")\n",
        "for i in range(10):\n",
        "    try:\n",
        "        import requests\n",
        "        response = requests.get(\"http://127.0.0.1:8000/salud\", timeout=1)\n",
        "        if response.status_code == 200:\n",
        "            print(\"=\"*60)\n",
        "            print(\"API INICIADA CORRECTAMENTE\")\n",
        "            print(\"=\"*60)\n",
        "            print(\"URL: http://127.0.0.1:8000\")\n",
        "            print(\"=\"*60 + \"\\n\")\n",
        "            break\n",
        "    except:\n",
        "        time.sleep(2)\n",
        "        print(f\"   Intento {i+1}/10...\")\n",
        "else:\n",
        "    print(\"La API tardó en iniciar, pero debería estar lista pronto...\")"
      ],
      "metadata": {
        "colab": {
          "base_uri": "https://localhost:8080/"
        },
        "id": "V6yw_PWamJUz",
        "outputId": "391a368e-5cce-4246-af2a-13cf46e81a1a"
      },
      "execution_count": 5,
      "outputs": [
        {
          "output_type": "stream",
          "name": "stdout",
          "text": [
            " Iniciando API...\n",
            "============================================================\n",
            "API INICIADA CORRECTAMENTE\n",
            "============================================================\n",
            "URL: http://127.0.0.1:8000\n",
            "============================================================\n",
            "\n"
          ]
        }
      ]
    },
    {
      "cell_type": "markdown",
      "source": [
        "##Exposición Pública con ngrok\n",
        "\n",
        "Para permitir acceso desde herramientas externas como Postman, exponemos la API públicamente usando ngrok.\n",
        "\n",
        "**¿Qué hace ngrok?**\n",
        "- Crea un túnel seguro desde Internet hacia nuestro servidor local\n",
        "- Genera una URL pública (ej: https://xxxxx.ngrok-free.dev)\n",
        "- Permite probar la API desde cualquier lugar\n",
        "\n",
        "**Importante:** La URL de ngrok cambia cada vez que se reinicia."
      ],
      "metadata": {
        "id": "rzl7XqAb0-kW"
      }
    },
    {
      "cell_type": "code",
      "source": [
        "# Instalar y configurar ngrok\n",
        "!pip install pyngrok -q\n",
        "\n",
        "from pyngrok import ngrok\n",
        "import time\n",
        "\n",
        "# Esperar a que la API esté lista\n",
        "time.sleep(2)\n",
        "\n",
        "# Configuración authtoken\n",
        "ngrok.set_auth_token(\"33I5O6Qm7Hk7if9O6ddk1JLQYge_68argjVAEvbDvJvwTK6aY\")\n",
        "\n",
        "# Crear túnel público\n",
        "public_url = ngrok.connect(8000)\n",
        "\n",
        "print(\"=\"*60)\n",
        "print(\"URL PÚBLICA PARA POSTMAN\")\n",
        "print(\"=\"*60)\n",
        "print(f\"\\n{public_url}\\n\")\n",
        "print(\"Endpoints disponibles:\")\n",
        "print(f\"  - GET  {public_url}/salud\")\n",
        "print(f\"  - POST {public_url}/predecir\")\n",
        "print(f\"  - GET  {public_url}/estadisticas\")\n",
        "print(\"\\nCopia esta URL y úsala en Postman\")\n",
        "print(\"=\"*60)"
      ],
      "metadata": {
        "colab": {
          "base_uri": "https://localhost:8080/"
        },
        "id": "-FJnjocPq01-",
        "outputId": "f4f100ad-2486-4242-8e90-71a2c35bfefa"
      },
      "execution_count": 8,
      "outputs": [
        {
          "output_type": "stream",
          "name": "stdout",
          "text": [
            "============================================================\n",
            "URL PÚBLICA PARA POSTMAN\n",
            "============================================================\n",
            "\n",
            "NgrokTunnel: \"https://ambrose-interradial-kayla.ngrok-free.dev\" -> \"http://localhost:8000\"\n",
            "\n",
            "Endpoints disponibles:\n",
            "  - GET  NgrokTunnel: \"https://ambrose-interradial-kayla.ngrok-free.dev\" -> \"http://localhost:8000\"/salud\n",
            "  - POST NgrokTunnel: \"https://ambrose-interradial-kayla.ngrok-free.dev\" -> \"http://localhost:8000\"/predecir\n",
            "  - GET  NgrokTunnel: \"https://ambrose-interradial-kayla.ngrok-free.dev\" -> \"http://localhost:8000\"/estadisticas\n",
            "\n",
            "Copia esta URL y úsala en Postman\n",
            "============================================================\n"
          ]
        }
      ]
    },
    {
      "cell_type": "markdown",
      "source": [
        "##Pruebas de la API\n",
        "\n",
        "A continuación realizamos pruebas automáticas de todos los endpoints:\n",
        "\n",
        "### Casos de prueba:\n",
        "1. **Health Check** - Verificar que la API responde\n",
        "2. **Predicción Bajo Riesgo** - Estudiante con buenos indicadores\n",
        "3. **Predicción Alto Riesgo** - Estudiante con indicadores críticos\n",
        "4. **Estadísticas** - Consultar métricas de uso\n",
        "\n",
        "### Resultados esperados:\n",
        "- Todas las pruebas deben retornar status 200 OK\n",
        "- Las predicciones deben ser coherentes con los datos de entrada\n",
        "- Las estadísticas deben reflejar el uso correcto"
      ],
      "metadata": {
        "id": "WKexsDx91EkO"
      }
    },
    {
      "cell_type": "code",
      "source": [
        "# PRUEBAS DE LA API\n",
        "\n",
        "import requests\n",
        "import json\n",
        "\n",
        "print(\"PRUEBAS DE LA API\")\n",
        "\n",
        "base_url = \"http://127.0.0.1:8000\"\n",
        "\n",
        "# Verificar que la API responde\n",
        "try:\n",
        "    requests.get(f\"{base_url}/salud\", timeout=2)\n",
        "except:\n",
        "    print(\" Esperando a que la API responda...\")\n",
        "    time.sleep(5)\n",
        "\n",
        "# Prueba 1: Salud\n",
        "print(\" PRUEBA 1: Verificar salud\")\n",
        "r = requests.get(f\"{base_url}/salud\")\n",
        "print(f\"Status: {r.status_code}\")\n",
        "print(json.dumps(r.json(), indent=2) + \"\\n\")\n",
        "\n",
        "# Prueba 2: Predicción (Bajo riesgo)\n",
        "print(\" PRUEBA 2: Estudiante bajo riesgo\")\n",
        "estudiante1 = {\n",
        "    \"edad\": 20,\n",
        "    \"horas_estudio_semanal\": 25,\n",
        "    \"asistencia\": 0.95,\n",
        "    \"promedio_notas\": 4.2,\n",
        "    \"trabaja\": 0\n",
        "}\n",
        "r = requests.post(f\"{base_url}/predecir\", json=estudiante1)\n",
        "print(f\"Status: {r.status_code}\")\n",
        "print(json.dumps(r.json(), indent=2) + \"\\n\")\n",
        "\n",
        "# Prueba 3: Predicción (Alto riesgo)\n",
        "print(\" PRUEBA 3: Estudiante alto riesgo\")\n",
        "estudiante2 = {\n",
        "    \"edad\": 28,\n",
        "    \"horas_estudio_semanal\": 5,\n",
        "    \"asistencia\": 0.55,\n",
        "    \"promedio_notas\": 2.1,\n",
        "    \"trabaja\": 1\n",
        "}\n",
        "r = requests.post(f\"{base_url}/predecir\", json=estudiante2)\n",
        "print(f\"Status: {r.status_code}\")\n",
        "print(json.dumps(r.json(), indent=2) + \"\\n\")\n",
        "\n",
        "# Prueba 4: Estadísticas\n",
        "print(\" PRUEBA 4: Consultar estadísticas\")\n",
        "r = requests.get(f\"{base_url}/estadisticas\")\n",
        "print(f\"Status: {r.status_code}\")\n",
        "print(json.dumps(r.json(), indent=2) + \"\\n\")\n",
        "\n",
        "print(\"PRUEBAS COMPLETADAS\")"
      ],
      "metadata": {
        "colab": {
          "base_uri": "https://localhost:8080/"
        },
        "id": "flcDFnzwmNTZ",
        "outputId": "3192c8a2-97b9-4b69-9069-86a941dbd13e"
      },
      "execution_count": 9,
      "outputs": [
        {
          "output_type": "stream",
          "name": "stdout",
          "text": [
            "PRUEBAS DE LA API\n",
            " PRUEBA 1: Verificar salud\n",
            "Status: 200\n",
            "{\n",
            "  \"estado\": \"activo\",\n",
            "  \"timestamp\": \"2025-10-02T02:09:00.794114\",\n",
            "  \"modelo\": \"operativo\"\n",
            "}\n",
            "\n",
            " PRUEBA 2: Estudiante bajo riesgo\n",
            "Status: 200\n",
            "{\n",
            "  \"abandona\": 0,\n",
            "  \"probabilidad\": 0.01,\n",
            "  \"riesgo\": \"BAJO\",\n",
            "  \"timestamp\": \"2025-10-02T02:09:00.831182\"\n",
            "}\n",
            "\n",
            " PRUEBA 3: Estudiante alto riesgo\n",
            "Status: 200\n",
            "{\n",
            "  \"abandona\": 1,\n",
            "  \"probabilidad\": 1.0,\n",
            "  \"riesgo\": \"ALTO\",\n",
            "  \"timestamp\": \"2025-10-02T02:09:00.868742\"\n",
            "}\n",
            "\n",
            " PRUEBA 4: Consultar estadísticas\n",
            "Status: 200\n",
            "{\n",
            "  \"total_predicciones\": 4,\n",
            "  \"exitosas\": 4,\n",
            "  \"fallidas\": 0,\n",
            "  \"tiempo_activo_segundos\": 996.78\n",
            "}\n",
            "\n",
            "PRUEBAS COMPLETADAS\n"
          ]
        },
        {
          "output_type": "stream",
          "name": "stderr",
          "text": [
            "/tmp/ipython-input-1644020794.py:40: PydanticDeprecatedSince20: The `dict` method is deprecated; use `model_dump` instead. Deprecated in Pydantic V2.0 to be removed in V3.0. See Pydantic V2 Migration Guide at https://errors.pydantic.dev/2.11/migration/\n",
            "  logger.info(f\"Nueva predicción - Datos: {estudiante.dict()}\")\n",
            "/tmp/ipython-input-1644020794.py:40: PydanticDeprecatedSince20: The `dict` method is deprecated; use `model_dump` instead. Deprecated in Pydantic V2.0 to be removed in V3.0. See Pydantic V2 Migration Guide at https://errors.pydantic.dev/2.11/migration/\n",
            "  logger.info(f\"Nueva predicción - Datos: {estudiante.dict()}\")\n"
          ]
        }
      ]
    },
    {
      "cell_type": "markdown",
      "source": [
        "## Resultados Obtenidos\n",
        "\n",
        "### Modelo de Machine Learning:\n",
        "- **Accuracy:** 100% en conjunto de prueba\n",
        "- **Modelo guardado:** modelo_abandono.pkl\n",
        "\n",
        "### API REST:\n",
        "- **4 endpoints** implementados y funcionales\n",
        "- **Sistema de logging** operativo\n",
        "- **Sistema de monitoreo** funcionando\n",
        "- **Validación de datos** con Pydantic\n",
        "\n",
        "### Pruebas:\n",
        "- **Health check:** Exitoso\n",
        "- **Predicciones:** Funcionando correctamente\n",
        "- **Estadísticas:** Reportando métricas\n",
        "- **Validación de errores:** Detectando datos inválidos\n",
        "\n",
        "---\n",
        "\n",
        "## Pruebas con Postman\n",
        "\n",
        "La API fue probada exhaustivamente con Postman:\n",
        "\n",
        "### Casos probados:\n",
        "1. Estudiante de bajo riesgo\n",
        "2. Estudiante de alto riesgo\n",
        "3. Validación de datos incorrectos\n",
        "4. Consulta de estadísticas\n",
        "\n",
        "---\n",
        "\n",
        "## Conclusiones\n",
        "\n",
        "1. **FastAPI** facilita enormemente la creación de APIs REST con validación automática\n",
        "2. **Pydantic** proporciona validación robusta de datos de entrada\n",
        "3. El sistema de **logging** permite rastrear el uso y detectar problemas\n",
        "4. **ngrok** es útil para exposición rápida sin necesidad de servidor\n",
        "5. El modelo Random Forest alcanzó **100% de accuracy** con reglas claras\n",
        "\n",
        "---\n",
        "\n",
        "## Enlace repositorio\n",
        "\n",
        "- **Repositorio GitHub:** https://github.com/SilvanaGCh/API_Predicci-n_Abandono_Estudiantil/tree/main\n"
      ],
      "metadata": {
        "id": "RSA7LQ-D1O2A"
      }
    }
  ]
}